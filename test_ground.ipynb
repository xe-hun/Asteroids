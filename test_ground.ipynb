{
 "cells": [
  {
   "cell_type": "code",
   "execution_count": 1,
   "metadata": {},
   "outputs": [
    {
     "name": "stdout",
     "output_type": "stream",
     "text": [
      "pygame 2.1.0 (SDL 2.0.16, Python 3.10.12)\n",
      "Hello from the pygame community. https://www.pygame.org/contribute.html\n"
     ]
    }
   ],
   "source": [
    "import pygame\n",
    "import math\n",
    "\n",
    "# Initialize Pygame\n",
    "pygame.init()\n",
    "\n",
    "# Set up the display\n",
    "width, height = 800, 600\n",
    "screen = pygame.display.set_mode((width, height))\n",
    "pygame.display.set_caption(\"Moving Polygon\")\n",
    "\n",
    "# Colors\n",
    "BLACK = (0, 0, 0)\n",
    "WHITE = (255, 255, 255)\n",
    "\n",
    "# Polygon properties\n",
    "polygon_points = [(0, -20), (10, 10), (-10, 10)]  # Triangle shape\n",
    "x, y = width // 2, height // 2  # Initial position\n",
    "angle = 0  # Initial angle\n",
    "speed = 5  # Movement speed\n",
    "\n",
    "# Game loop\n",
    "running = True\n",
    "clock = pygame.time.Clock()\n",
    "\n",
    "while running:\n",
    "    for event in pygame.event.get():\n",
    "        if event.type == pygame.QUIT:\n",
    "            running = False\n",
    "\n",
    "    # Handle key presses\n",
    "    keys = pygame.key.get_pressed()\n",
    "    dx, dy = 0, 0\n",
    "    if keys[pygame.K_LEFT]:\n",
    "        dx = -speed\n",
    "    if keys[pygame.K_RIGHT]:\n",
    "        dx = speed\n",
    "    if keys[pygame.K_UP]:\n",
    "        dy = -speed\n",
    "    if keys[pygame.K_DOWN]:\n",
    "        dy = speed\n",
    "\n",
    "    # Update position\n",
    "    x += dx\n",
    "    y += dy\n",
    "\n",
    "    # Update angle if moving\n",
    "    if dx != 0 or dy != 0:\n",
    "        angle = math.atan2(dy, dx)\n",
    "\n",
    "    # Clear the screen\n",
    "    screen.fill(BLACK)\n",
    "\n",
    "    # Rotate and draw the polygon\n",
    "    rotated_points = []\n",
    "    for point in polygon_points:\n",
    "        rotated_x = point[0] * math.cos(angle) - point[1] * math.sin(angle)\n",
    "        rotated_y = point[0] * math.sin(angle) + point[1] * math.cos(angle)\n",
    "        rotated_points.append((rotated_x + x, rotated_y + y))\n",
    "\n",
    "    pygame.draw.polygon(screen, WHITE, rotated_points, 2)  # 2 is the line thickness\n",
    "\n",
    "    # Update the display\n",
    "    pygame.display.flip()\n",
    "\n",
    "    # Cap the frame rate\n",
    "    clock.tick(60)\n",
    "\n",
    "# Quit Pygame\n",
    "pygame.quit()"
   ]
  },
  {
   "cell_type": "code",
   "execution_count": 2,
   "metadata": {},
   "outputs": [],
   "source": [
    "import pygame\n",
    "import math\n",
    "\n",
    "# Initialize Pygame\n",
    "pygame.init()\n",
    "\n",
    "# Set up the display\n",
    "width, height = 800, 600\n",
    "screen = pygame.display.set_mode((width, height))\n",
    "pygame.display.set_caption(\"Moving Polygon\")\n",
    "\n",
    "# Colors\n",
    "BLACK = (0, 0, 0)\n",
    "WHITE = (255, 255, 255)\n",
    "\n",
    "# Polygon properties\n",
    "polygon_points = [(0, -20), (10, 10), (-10, 10)]  # Triangle shape\n",
    "x, y = width // 2, height // 2  # Initial position\n",
    "angle = 0  # Initial angle\n",
    "speed = 5  # Movement speed\n",
    "\n",
    "# Create a surface for the polygon\n",
    "polygon_size = 50\n",
    "polygon_surface = pygame.Surface((polygon_size, polygon_size), pygame.SRCALPHA)\n",
    "pygame.draw.polygon(polygon_surface, WHITE, \n",
    "                    [(p[0] + polygon_size//2, p[1] + polygon_size//2) for p in polygon_points], 2)\n",
    "\n",
    "# Game loop\n",
    "running = True\n",
    "clock = pygame.time.Clock()\n",
    "\n",
    "while running:\n",
    "    for event in pygame.event.get():\n",
    "        if event.type == pygame.QUIT:\n",
    "            running = False\n",
    "\n",
    "    # Handle key presses\n",
    "    keys = pygame.key.get_pressed()\n",
    "    dx, dy = 0, 0\n",
    "    if keys[pygame.K_LEFT]:\n",
    "        dx = -speed\n",
    "    if keys[pygame.K_RIGHT]:\n",
    "        dx = speed\n",
    "    if keys[pygame.K_UP]:\n",
    "        dy = -speed\n",
    "    if keys[pygame.K_DOWN]:\n",
    "        dy = speed\n",
    "\n",
    "    # Update position\n",
    "    x += dx\n",
    "    y += dy\n",
    "\n",
    "    # Update angle if moving\n",
    "    if dx != 0 or dy != 0:\n",
    "        angle = math.atan2(dy, dx)\n",
    "\n",
    "    # Clear the screen\n",
    "    screen.fill(BLACK)\n",
    "\n",
    "    # Rotate the polygon surface\n",
    "    rotated_surface = pygame.transform.rotate(polygon_surface, -math.degrees(angle))\n",
    "    \n",
    "    # Get the rect of the rotated surface and position it\n",
    "    rect = rotated_surface.get_rect(center=(x, y))\n",
    "\n",
    "    # Draw the rotated surface\n",
    "    screen.blit(rotated_surface, rect.topleft)\n",
    "\n",
    "    # Update the display\n",
    "    pygame.display.flip()\n",
    "\n",
    "    # Cap the frame rate\n",
    "    clock.tick(60)\n",
    "\n",
    "# Quit Pygame\n",
    "pygame.quit()"
   ]
  },
  {
   "cell_type": "code",
   "execution_count": 11,
   "metadata": {},
   "outputs": [
    {
     "data": {
      "text/plain": [
       "[(40.0, 0.0),\n",
       " (12.360679774997898, 38.04226065180614),\n",
       " (-32.36067977499789, 23.51141009169893),\n",
       " (-32.360679774997905, -23.51141009169892),\n",
       " (12.36067977499789, -38.042260651806146),\n",
       " (40.0, -9.797174393178826e-15)]"
      ]
     },
     "execution_count": 11,
     "metadata": {},
     "output_type": "execute_result"
    }
   ],
   "source": [
    "import math\n",
    "import numpy as np\n",
    "polygonPoints =  [(40 * math.cos(i) + 40, 40 * math.sin(i) + 40) for i in np.linspace(0, math.pi * 2, 6)]\n",
    "\n",
    "polygonPoints"
   ]
  },
  {
   "cell_type": "code",
   "execution_count": 19,
   "metadata": {},
   "outputs": [
    {
     "data": {
      "text/plain": [
       "0.0"
      ]
     },
     "execution_count": 19,
     "metadata": {},
     "output_type": "execute_result"
    }
   ],
   "source": [
    "import numpy as np\n",
    "\n",
    "# a number from -45 to 45\n",
    "\n",
    "# k = np.random.rand\n",
    "k = 1\n",
    "r = (k / 2) * (45 - -45)\n",
    "m = -45 + r\n",
    "m\n",
    "\n",
    "\n",
    "\n",
    "    "
   ]
  },
  {
   "cell_type": "code",
   "execution_count": 25,
   "metadata": {},
   "outputs": [
    {
     "data": {
      "text/plain": [
       "5.0"
      ]
     },
     "execution_count": 25,
     "metadata": {},
     "output_type": "execute_result"
    }
   ],
   "source": [
    "def mapValue(minVar, maxVar, minDest, maxDest, var):\n",
    "    return ((var - minVar) / (maxVar - minVar) * (maxDest - minDest)) + minDest\n",
    "\n",
    "# mapValue(0, 2, -45, 45, 0)\n",
    "mapValue(35, 45, 1, 5, 45)\n",
    "    "
   ]
  },
  {
   "cell_type": "code",
   "execution_count": 34,
   "metadata": {},
   "outputs": [
    {
     "data": {
      "text/plain": [
       "['b']"
      ]
     },
     "execution_count": 34,
     "metadata": {},
     "output_type": "execute_result"
    }
   ],
   "source": [
    "import random\n",
    "random.choices(\n",
    "    ['a', 'b', 'c'],\n",
    "    weights=[0, 1, 1]\n",
    ")"
   ]
  },
  {
   "cell_type": "code",
   "execution_count": 6,
   "metadata": {},
   "outputs": [
    {
     "ename": "TypeError",
     "evalue": "points must be number pairs",
     "output_type": "error",
     "traceback": [
      "\u001b[0;31m---------------------------------------------------------------------------\u001b[0m",
      "\u001b[0;31mTypeError\u001b[0m                                 Traceback (most recent call last)",
      "Cell \u001b[0;32mIn[6], line 38\u001b[0m\n\u001b[1;32m     36\u001b[0m \u001b[38;5;66;03m# Draw the polygon\u001b[39;00m\n\u001b[1;32m     37\u001b[0m polygon_points \u001b[38;5;241m=\u001b[39m [(v) \u001b[38;5;241m*\u001b[39m \u001b[38;5;241m20\u001b[39m \u001b[38;5;28;01mfor\u001b[39;00m v \u001b[38;5;129;01min\u001b[39;00m polygon_vertices]\n\u001b[0;32m---> 38\u001b[0m \u001b[43mpygame\u001b[49m\u001b[38;5;241;43m.\u001b[39;49m\u001b[43mdraw\u001b[49m\u001b[38;5;241;43m.\u001b[39;49m\u001b[43mpolygon\u001b[49m\u001b[43m(\u001b[49m\u001b[43mscreen\u001b[49m\u001b[43m,\u001b[49m\u001b[43m \u001b[49m\u001b[43m(\u001b[49m\u001b[38;5;241;43m0\u001b[39;49m\u001b[43m,\u001b[49m\u001b[43m \u001b[49m\u001b[38;5;241;43m0\u001b[39;49m\u001b[43m,\u001b[49m\u001b[43m \u001b[49m\u001b[38;5;241;43m0\u001b[39;49m\u001b[43m)\u001b[49m\u001b[43m,\u001b[49m\u001b[43m \u001b[49m\u001b[43mpolygon_points\u001b[49m\u001b[43m)\u001b[49m\n\u001b[1;32m     40\u001b[0m \u001b[38;5;66;03m# Draw the triangle\u001b[39;00m\n\u001b[1;32m     41\u001b[0m triangle_points \u001b[38;5;241m=\u001b[39m [(v) \u001b[38;5;241m*\u001b[39m \u001b[38;5;241m20\u001b[39m \u001b[38;5;28;01mfor\u001b[39;00m v \u001b[38;5;129;01min\u001b[39;00m triangle_vertices]\n",
      "\u001b[0;31mTypeError\u001b[0m: points must be number pairs"
     ]
    }
   ],
   "source": [
    "import pygame\n",
    "import Box2D\n",
    "\n",
    "# Initialize Pygame\n",
    "pygame.init()\n",
    "screen = pygame.display.set_mode((800, 600))\n",
    "pygame.display.set_caption(\"Box2D Polygon and Triangle\")\n",
    "\n",
    "# Initialize Box2D\n",
    "world = Box2D.b2World(gravity=(0, -10))\n",
    "\n",
    "# Create a polygon\n",
    "polygon_vertices = [(0, 0), (2, 0), (2, 2), (0, 2)]\n",
    "polygon_body = world.CreateStaticBody(position=(4, 3))\n",
    "polygon_shape = Box2D.b2PolygonShape(vertices=polygon_vertices)\n",
    "polygon_body.CreateFixture(shape=polygon_shape, density=1.0)\n",
    "\n",
    "# Create a triangle\n",
    "triangle_vertices = [(0, 0), (2, 0), (1, 2)]\n",
    "triangle_body = world.CreateStaticBody(position=(8, 3))\n",
    "triangle_shape = Box2D.b2PolygonShape(vertices=triangle_vertices)\n",
    "triangle_body.CreateFixture(shape=triangle_shape, density=1.0)\n",
    "\n",
    "# Simulation loop\n",
    "running = True\n",
    "while running:\n",
    "    for event in pygame.event.get():\n",
    "        if event.type == pygame.QUIT:\n",
    "            running = False\n",
    "\n",
    "    world.Step(1.0 / 60.0, 6, 2)\n",
    "\n",
    "    # Clear the screen\n",
    "    screen.fill((255, 255, 255))\n",
    "\n",
    "    # Draw the polygon\n",
    "    polygon_points = [(v) * 20 for v in polygon_vertices]\n",
    "    pygame.draw.polygon(screen, (0, 0, 0), polygon_points)\n",
    "\n",
    "    # Draw the triangle\n",
    "    triangle_points = [(v) * 20 for v in triangle_vertices]\n",
    "    pygame.draw.polygon(screen, (0, 0, 0), triangle_points)\n",
    "\n",
    "    pygame.display.flip()\n",
    "\n",
    "pygame.quit()"
   ]
  },
  {
   "cell_type": "code",
   "execution_count": null,
   "metadata": {},
   "outputs": [],
   "source": []
  }
 ],
 "metadata": {
  "kernelspec": {
   "display_name": "Python 3",
   "language": "python",
   "name": "python3"
  },
  "language_info": {
   "codemirror_mode": {
    "name": "ipython",
    "version": 3
   },
   "file_extension": ".py",
   "mimetype": "text/x-python",
   "name": "python",
   "nbconvert_exporter": "python",
   "pygments_lexer": "ipython3",
   "version": "3.10.12"
  }
 },
 "nbformat": 4,
 "nbformat_minor": 2
}
