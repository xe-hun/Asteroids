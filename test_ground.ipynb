{
 "cells": [
  {
   "cell_type": "code",
   "execution_count": null,
   "metadata": {},
   "outputs": [],
   "source": [
    "import pygame\n",
    "import math\n",
    "\n",
    "# Initialize Pygame\n",
    "pygame.init()\n",
    "\n",
    "# Set up the display\n",
    "width, height = 800, 600\n",
    "screen = pygame.display.set_mode((width, height))\n",
    "pygame.display.set_caption(\"Moving Polygon\")\n",
    "\n",
    "# Colors\n",
    "BLACK = (0, 0, 0)\n",
    "WHITE = (255, 255, 255)\n",
    "\n",
    "# Polygon properties\n",
    "polygon_points = [(0, -20), (10, 10), (-10, 10)]  # Triangle shape\n",
    "x, y = width // 2, height // 2  # Initial position\n",
    "angle = 0  # Initial angle\n",
    "speed = 5  # Movement speed\n",
    "\n",
    "# Game loop\n",
    "running = True\n",
    "clock = pygame.time.Clock()\n",
    "\n",
    "while running:\n",
    "    for event in pygame.event.get():\n",
    "        if event.type == pygame.QUIT:\n",
    "            running = False\n",
    "\n",
    "    # Handle key presses\n",
    "    keys = pygame.key.get_pressed()\n",
    "    dx, dy = 0, 0\n",
    "    if keys[pygame.K_LEFT]:\n",
    "        dx = -speed\n",
    "    if keys[pygame.K_RIGHT]:\n",
    "        dx = speed\n",
    "    if keys[pygame.K_UP]:\n",
    "        dy = -speed\n",
    "    if keys[pygame.K_DOWN]:\n",
    "        dy = speed\n",
    "\n",
    "    # Update position\n",
    "    x += dx\n",
    "    y += dy\n",
    "\n",
    "    # Update angle if moving\n",
    "    if dx != 0 or dy != 0:\n",
    "        angle = math.atan2(dy, dx)\n",
    "\n",
    "    # Clear the screen\n",
    "    screen.fill(BLACK)\n",
    "\n",
    "    # Rotate and draw the polygon\n",
    "    rotated_points = []\n",
    "    for point in polygon_points:\n",
    "        rotated_x = point[0] * math.cos(angle) - point[1] * math.sin(angle)\n",
    "        rotated_y = point[0] * math.sin(angle) + point[1] * math.cos(angle)\n",
    "        rotated_points.append((rotated_x + x, rotated_y + y))\n",
    "\n",
    "    pygame.draw.polygon(screen, WHITE, rotated_points, 2)  # 2 is the line thickness\n",
    "\n",
    "    # Update the display\n",
    "    pygame.display.flip()\n",
    "\n",
    "    # Cap the frame rate\n",
    "    clock.tick(60)\n",
    "\n",
    "# Quit Pygame\n",
    "pygame.quit()"
   ]
  },
  {
   "cell_type": "code",
   "execution_count": 2,
   "metadata": {},
   "outputs": [],
   "source": [
    "import pygame\n",
    "import math\n",
    "\n",
    "# Initialize Pygame\n",
    "pygame.init()\n",
    "\n",
    "# Set up the display\n",
    "width, height = 800, 600\n",
    "screen = pygame.display.set_mode((width, height))\n",
    "pygame.display.set_caption(\"Moving Polygon\")\n",
    "\n",
    "# Colors\n",
    "BLACK = (0, 0, 0)\n",
    "WHITE = (255, 255, 255)\n",
    "\n",
    "# Polygon properties\n",
    "polygon_points = [(0, -20), (10, 10), (-10, 10)]  # Triangle shape\n",
    "x, y = width // 2, height // 2  # Initial position\n",
    "angle = 0  # Initial angle\n",
    "speed = 5  # Movement speed\n",
    "\n",
    "# Create a surface for the polygon\n",
    "polygon_size = 50\n",
    "polygon_surface = pygame.Surface((polygon_size, polygon_size), pygame.SRCALPHA)\n",
    "pygame.draw.polygon(polygon_surface, WHITE, \n",
    "                    [(p[0] + polygon_size//2, p[1] + polygon_size//2) for p in polygon_points], 2)\n",
    "\n",
    "# Game loop\n",
    "running = True\n",
    "clock = pygame.time.Clock()\n",
    "\n",
    "while running:\n",
    "    for event in pygame.event.get():\n",
    "        if event.type == pygame.QUIT:\n",
    "            running = False\n",
    "\n",
    "    # Handle key presses\n",
    "    keys = pygame.key.get_pressed()\n",
    "    dx, dy = 0, 0\n",
    "    if keys[pygame.K_LEFT]:\n",
    "        dx = -speed\n",
    "    if keys[pygame.K_RIGHT]:\n",
    "        dx = speed\n",
    "    if keys[pygame.K_UP]:\n",
    "        dy = -speed\n",
    "    if keys[pygame.K_DOWN]:\n",
    "        dy = speed\n",
    "\n",
    "    # Update position\n",
    "    x += dx\n",
    "    y += dy\n",
    "\n",
    "    # Update angle if moving\n",
    "    if dx != 0 or dy != 0:\n",
    "        angle = math.atan2(dy, dx)\n",
    "\n",
    "    # Clear the screen\n",
    "    screen.fill(BLACK)\n",
    "\n",
    "    # Rotate the polygon surface\n",
    "    rotated_surface = pygame.transform.rotate(polygon_surface, -math.degrees(angle))\n",
    "    \n",
    "    # Get the rect of the rotated surface and position it\n",
    "    rect = rotated_surface.get_rect(center=(x, y))\n",
    "\n",
    "    # Draw the rotated surface\n",
    "    screen.blit(rotated_surface, rect.topleft)\n",
    "\n",
    "    # Update the display\n",
    "    pygame.display.flip()\n",
    "\n",
    "    # Cap the frame rate\n",
    "    clock.tick(60)\n",
    "\n",
    "# Quit Pygame\n",
    "pygame.quit()"
   ]
  },
  {
   "cell_type": "code",
   "execution_count": null,
   "metadata": {},
   "outputs": [],
   "source": [
    "import matplotlib.pyplot as plt\n",
    "from utils.lerp import Lerp\n",
    "import numpy as np\n",
    "import math\n",
    "lerpEx = Lerp()\n",
    "lnsp = np.linspace(0, 1, 50)\n",
    "a = 0\n",
    "b = 10\n",
    "k = []\n",
    "\n",
    "def doStuff(lerp):\n",
    "    lerp.drive() \n",
    "    v = lerpEx.Sinusoidal(-1, 1, 5) * lerpEx.easeOut(1, 0)\n",
    "    # v = lerpEx.easeOut(1, 0)\n",
    "    k.append(v)  \n",
    "\n",
    "while lerpEx.do(3000, doStuff).isDone() == False:\n",
    "    pass\n",
    "\n",
    "\n",
    "    \n",
    "\n",
    "plt.plot(k)\n",
    "plt.show()\n",
    "\n",
    "    \n",
    "\n"
   ]
  },
  {
   "cell_type": "code",
   "execution_count": 10,
   "metadata": {},
   "outputs": [
    {
     "name": "stdout",
     "output_type": "stream",
     "text": [
      "(3, 4, 5, 6, 7, 8, 9, 10, 11)\n"
     ]
    }
   ],
   "source": [
    "ite = [1,2,3,4,5,6,7,8,9]\n",
    "r = tuple(map(lambda x : x + 2, ite))\n",
    "print(r)"
   ]
  },
  {
   "cell_type": "code",
   "execution_count": 3,
   "metadata": {},
   "outputs": [],
   "source": [
    "from utils.lerp import Lerp\n",
    "import time\n",
    "l1 = Lerp()\n",
    "\n",
    "\n",
    "def call1(lerp):\n",
    "    # lerp.drive()\n",
    "    return lerp.linear(0, 10)\n",
    "    \n",
    "def call2(lerp):\n",
    "    # lerp.drive()\n",
    "    return lerp.ease_in(0, 20)"
   ]
  },
  {
   "cell_type": "code",
   "execution_count": null,
   "metadata": {},
   "outputs": [],
   "source": [
    "# duration = 3000\n",
    "t1 = time.time() * 1000\n",
    "t2 = 0\n",
    "done = False\n",
    "# while t2 - t1 < duration:\n",
    "while done == False:\n",
    "    # t2 = time.time() * 1000\n",
    "    time.sleep(0.1)\n",
    "    # m = l1.do(500, call1).andThen(500, call2).andWait(500).andThen(500, call2, lambda: print('done'))\n",
    "    m = l1.do(500, call1, lambda: print('done'))\n",
    "    print(m.value)\n",
    "    done = m.is_done\n",
    "    \n"
   ]
  },
  {
   "cell_type": "code",
   "execution_count": 41,
   "metadata": {},
   "outputs": [
    {
     "data": {
      "image/png": "[encoded data removed]",
      "text/plain": [
       "<Figure size 640x480 with 1 Axes>"
      ]
     },
     "metadata": {},
     "output_type": "display_data"
    }
   ],
   "source": [
    "import math\n",
    "import matplotlib.pyplot as plt\n",
    "\n",
    "def asymptotic_value(min_value, max_value, rate, time):\n",
    "    return max_value - (max_value - min_value) * math.exp(-rate * time)\n",
    "\n",
    "k = []\n",
    "for i in range(1, 10):\n",
    "    # k.append(math.log(i)*.08)\n",
    "    v = asymptotic_value(1, 4, .1, i)\n",
    "    k.append(v)\n",
    "    \n",
    "plt.plot(k)\n",
    "plt.show()\n"
   ]
  },
  {
   "cell_type": "code",
   "execution_count": 4,
   "metadata": {},
   "outputs": [
    {
     "data": {
      "text/plain": [
       "1.0"
      ]
     },
     "execution_count": 4,
     "metadata": {},
     "output_type": "execute_result"
    }
   ],
   "source": [
    "float(True)"
   ]
  }
 ],
 "metadata": {
  "kernelspec": {
   "display_name": "Python 3",
   "language": "python",
   "name": "python3"
  },
  "language_info": {
   "codemirror_mode": {
    "name": "ipython",
    "version": 3
   },
   "file_extension": ".py",
   "mimetype": "text/x-python",
   "name": "python",
   "nbconvert_exporter": "python",
   "pygments_lexer": "ipython3",
   "version": "3.10.12"
  }
 },
 "nbformat": 4,
 "nbformat_minor": 2
}
